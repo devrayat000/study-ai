{
 "cells": [
  {
   "cell_type": "code",
   "execution_count": 1,
   "id": "61280d74",
   "metadata": {},
   "outputs": [],
   "source": [
    "from langchain_chroma import Chroma\n",
    "from langchain.prompts import ChatPromptTemplate\n",
    "from langchain_ollama.llms import OllamaLLM\n",
    "from langchain_ollama.embeddings import OllamaEmbeddings\n",
    "from langchain.document_loaders.pdf import PyPDFDirectoryLoader, OnlinePDFLoader\n",
    "from langchain_community.document_loaders.pdf import PyPDFLoader\n",
    "from langchain_text_splitters import RecursiveCharacterTextSplitter, TextSplitter\n",
    "from langchain.schema.document import Document"
   ]
  },
  {
   "cell_type": "code",
   "execution_count": 2,
   "id": "ee4363da",
   "metadata": {},
   "outputs": [],
   "source": [
    "CHROMA_PATH = \"chroma\"\n",
    "DATA_PATH = \"data\""
   ]
  },
  {
   "cell_type": "code",
   "execution_count": 3,
   "id": "d1795cc1",
   "metadata": {},
   "outputs": [],
   "source": [
    "def load_documents(text_splitter: TextSplitter = None) -> list[Document]:\n",
    "    \"\"\"Load documents from a list of URLs.\"\"\"\n",
    "    pdf_loader = PyPDFDirectoryLoader(DATA_PATH)\n",
    "    return pdf_loader.load_and_split(text_splitter=text_splitter)"
   ]
  },
  {
   "cell_type": "code",
   "execution_count": 4,
   "id": "3ac562e1",
   "metadata": {},
   "outputs": [],
   "source": [
    "text_splitter = RecursiveCharacterTextSplitter(\n",
    "    chunk_size=1024,\n",
    "    chunk_overlap=80,\n",
    "    length_function=len,\n",
    "    is_separator_regex=False,\n",
    ")"
   ]
  },
  {
   "cell_type": "code",
   "execution_count": 5,
   "id": "620ace39",
   "metadata": {},
   "outputs": [],
   "source": [
    "def get_embedding_function():\n",
    "    embeddings = OllamaEmbeddings(model=\"mistral\")\n",
    "    return embeddings"
   ]
  },
  {
   "cell_type": "code",
   "execution_count": 6,
   "id": "66597bcf",
   "metadata": {},
   "outputs": [],
   "source": [
    "def calculate_chunk_ids(chunks: list[Document]) -> list[Document]:\n",
    "\n",
    "    # This will create IDs like \"data/monopoly.pdf:6:2\"\n",
    "    # Page Source : Page Number : Chunk Index\n",
    "\n",
    "    last_page_id = None\n",
    "    current_chunk_index = 0\n",
    "\n",
    "    for chunk in chunks:\n",
    "        source = chunk.metadata.get(\"source\")\n",
    "        page = chunk.metadata.get(\"page\")\n",
    "        current_page_id = f\"{source}:{page}\"\n",
    "\n",
    "        # If the page ID is the same as the last one, increment the index.\n",
    "        if current_page_id == last_page_id:\n",
    "            current_chunk_index += 1\n",
    "        else:\n",
    "            current_chunk_index = 0\n",
    "\n",
    "        # Calculate the chunk ID.\n",
    "        chunk_id = f\"{current_page_id}:{current_chunk_index}\"\n",
    "        last_page_id = current_page_id\n",
    "\n",
    "        # Add it to the page meta-data.\n",
    "        chunk.metadata[\"id\"] = chunk_id\n",
    "\n",
    "    return chunks"
   ]
  },
  {
   "cell_type": "code",
   "execution_count": 8,
   "id": "8d56955e",
   "metadata": {},
   "outputs": [],
   "source": [
    "def add_to_chroma(chunks: list[Document]):\n",
    "    # Load the existing database.\n",
    "    db = Chroma(\n",
    "        collection_name=\"study_ai\",\n",
    "        persist_directory=CHROMA_PATH,\n",
    "        embedding_function=get_embedding_function(),\n",
    "    )\n",
    "\n",
    "    # Calculate Page IDs.\n",
    "    chunks_with_ids = calculate_chunk_ids(chunks)\n",
    "\n",
    "    # Add or Update the documents.\n",
    "    existing_items = db.get(include=[])  # IDs are always included by default\n",
    "    existing_ids = set(existing_items[\"ids\"])\n",
    "    print(f\"Number of existing documents in DB: {len(existing_ids)}\")\n",
    "\n",
    "    # Only add documents that don't exist in the DB.\n",
    "    new_chunks = []\n",
    "    for chunk in chunks_with_ids:\n",
    "        if chunk.metadata[\"id\"] not in existing_ids:\n",
    "            new_chunks.append(chunk)\n",
    "\n",
    "    if len(new_chunks):\n",
    "        print(f\"👉 Adding new documents: {len(new_chunks)}\")\n",
    "        new_chunk_ids = [chunk.metadata[\"id\"] for chunk in new_chunks]\n",
    "        # Run a for loop to add max 1000 documents at a time.\n",
    "\n",
    "        for i in range(0, len(new_chunks), 5000):\n",
    "            db.add_documents(new_chunks[i : i + 5000], ids=new_chunk_ids[i : i + 5000])\n",
    "        # db.add_documents(new_chunks, ids=new_chunk_ids)\n",
    "        # db.persist()\n",
    "    else:\n",
    "        print(\"✅ No new documents to add\")"
   ]
  },
  {
   "cell_type": "code",
   "execution_count": 9,
   "id": "97b6683e",
   "metadata": {},
   "outputs": [],
   "source": [
    "def clear_database():\n",
    "    db = Chroma(\n",
    "        collection_name=\"study_ai\",\n",
    "        persist_directory=CHROMA_PATH,\n",
    "        embedding_function=get_embedding_function(),\n",
    "    )\n",
    "    db.reset_collection()"
   ]
  },
  {
   "cell_type": "code",
   "execution_count": 12,
   "id": "de391372",
   "metadata": {},
   "outputs": [],
   "source": [
    "def populate_databse(reset = False):\n",
    "    if reset:\n",
    "        print(\"✨ Clearing Database\")\n",
    "        clear_database()\n",
    "\n",
    "    # Create (or update) the data store.\n",
    "    documents = load_documents(text_splitter=text_splitter)\n",
    "    add_to_chroma(documents)"
   ]
  },
  {
   "cell_type": "code",
   "execution_count": 13,
   "id": "b7358bb9",
   "metadata": {},
   "outputs": [
    {
     "name": "stdout",
     "output_type": "stream",
     "text": [
      "✨ Clearing Database\n",
      "Number of existing documents in DB: 0\n",
      "👉 Adding new documents: 2179\n"
     ]
    }
   ],
   "source": [
    "populate_databse(reset=True)"
   ]
  },
  {
   "cell_type": "code",
   "execution_count": 81,
   "id": "d3c6b829",
   "metadata": {},
   "outputs": [],
   "source": [
    "from langchain.prompts import PromptTemplate, ChatPromptTemplate\n",
    "from langchain_core.output_parsers import StrOutputParser\n",
    "from langchain_core.runnables import RunnablePassthrough, RunnableMap\n",
    "import json\n",
    "\n",
    "template = \"\"\"\n",
    "Format these lists of books and queries into a JSON metadata format with the same names.\n",
    "\n",
    "List of books:\n",
    "{books}\n",
    "\n",
    "Query: \"{query}\"\n",
    "\n",
    "Just return JSON metadata formatted like this:\n",
    "{{\n",
    "  \"book_title\": \"...\",\n",
    "  \"author\": \"...\"\n",
    "}}\n",
    "\"\"\"\n",
    "\n",
    "\n",
    "def gen_filters(query: str):\n",
    "    # Prepare the DB.\n",
    "    embedding_function = get_embedding_function()\n",
    "    db = Chroma(\n",
    "        collection_name=\"study_ai\",\n",
    "        persist_directory=CHROMA_PATH,\n",
    "        embedding_function=embedding_function,\n",
    "    )\n",
    "\n",
    "    # Get unique books from the db\n",
    "    unique_books = db.get(include=[\"metadatas\"])\n",
    "    unique_books = set([meta[\"source\"] for meta in unique_books[\"metadatas\"]])\n",
    "\n",
    "    prompt = ChatPromptTemplate.from_template(template)\n",
    "    llm = OllamaLLM(model=\"mistral\")\n",
    "    chain = (\n",
    "        RunnableMap({\"query\": RunnablePassthrough(), \"books\": RunnablePassthrough()}) \n",
    "        | prompt \n",
    "        | llm \n",
    "        | StrOutputParser()\n",
    "    )\n",
    "    metadata_json = chain.invoke({\"query\": query, \"books\": str(list(unique_books))})\n",
    "    print(f\"Metadata JSON: {metadata_json}\")\n",
    "    try:\n",
    "        return json.loads(metadata_json)\n",
    "    except json.JSONDecodeError as e:\n",
    "        return {}"
   ]
  },
  {
   "cell_type": "code",
   "execution_count": 82,
   "id": "136b236a",
   "metadata": {},
   "outputs": [],
   "source": [
    "PROMPT_TEMPLATE = \"\"\"\n",
    "Answer the question based only on the following context:\n",
    "\n",
    "{context}\n",
    "\n",
    "---\n",
    "\n",
    "Answer the question based on the above context: {question}\n",
    "---\n",
    "Do no include any information that is not in the context.\n",
    "If the context does not contain the answer, say \"I don't know\".\n",
    "If the context contains the answer, say the answer. Do not talk about the given context.\n",
    "\"\"\""
   ]
  },
  {
   "cell_type": "code",
   "execution_count": 83,
   "id": "ff55b13b",
   "metadata": {},
   "outputs": [],
   "source": [
    "def query_rag(query_text: str):\n",
    "    # Prepare the DB.\n",
    "    embedding_function = get_embedding_function()\n",
    "    db = Chroma(\n",
    "        collection_name=\"study_ai\",\n",
    "        persist_directory=CHROMA_PATH,\n",
    "        embedding_function=embedding_function,\n",
    "    )\n",
    "    filters = gen_filters(query_text)\n",
    "    # Search the DB.\n",
    "    results = db.similarity_search_with_score(query_text, k=5, filter=filters)\n",
    "\n",
    "    context_text = \"\\n\\n---\\n\\n\".join([doc.page_content for doc, _score in results])\n",
    "    prompt_template = ChatPromptTemplate.from_template(PROMPT_TEMPLATE)\n",
    "    prompt = prompt_template.format(context=context_text, question=query_text)\n",
    "    # print(prompt)\n",
    "\n",
    "    model = OllamaLLM(model=\"mistral\")\n",
    "    for chunk in model.stream(prompt):\n",
    "        print(chunk, end=\"\", flush=True)\n",
    "\n",
    "    sources = [doc.metadata.get(\"id\", None) for doc, _score in results]\n",
    "    print(\"\\n\\n---\\n\\n\")\n",
    "    print(f\"Sources: {len(sources)}\")\n",
    "    for source in sources:\n",
    "        print(source)"
   ]
  },
  {
   "cell_type": "code",
   "execution_count": 84,
   "id": "b0413d98",
   "metadata": {},
   "outputs": [
    {
     "name": "stdout",
     "output_type": "stream",
     "text": [
      "Metadata JSON:  Here's the JSON metadata for each book based on your examples. Please note that I can't provide actual titles or authors, as I don't have access to that information. In these examples, I assumed that each book has a title and an author.\n",
      "\n",
      "```json\n",
      "[\n",
      "  {\n",
      "    \"book_title\": \"Thomson 4th ed.\",\n",
      "    \"author\": \"Author of Thomson 4th ed.\"\n",
      "  },\n",
      "  {\n",
      "    \"book_title\": \"Ferguson 3rd ed.\",\n",
      "    \"author\": \"Author of Ferguson 3rd ed.\"\n",
      "  }\n",
      "]\n",
      "```\n",
      "In the given example, each book is represented as an object with two properties: \"book_title\" and \"author\". The values for these properties are placeholders for real titles and authors. Adjust the placeholders according to the actual data you have.\n"
     ]
    },
    {
     "ename": "ValueError",
     "evalue": "Expected where to have exactly one operator, got {} in query.",
     "output_type": "error",
     "traceback": [
      "\u001b[31m---------------------------------------------------------------------------\u001b[39m",
      "\u001b[31mValueError\u001b[39m                                Traceback (most recent call last)",
      "\u001b[36mFile \u001b[39m\u001b[32me:\\Programming\\python\\llms\\.venv\\Lib\\site-packages\\chromadb\\api\\models\\CollectionCommon.py:90\u001b[39m, in \u001b[36mvalidation_context.<locals>.decorator.<locals>.wrapper\u001b[39m\u001b[34m(self, *args, **kwargs)\u001b[39m\n\u001b[32m     89\u001b[39m \u001b[38;5;28;01mtry\u001b[39;00m:\n\u001b[32m---> \u001b[39m\u001b[32m90\u001b[39m     \u001b[38;5;28;01mreturn\u001b[39;00m \u001b[43mfunc\u001b[49m\u001b[43m(\u001b[49m\u001b[38;5;28;43mself\u001b[39;49m\u001b[43m,\u001b[49m\u001b[43m \u001b[49m\u001b[43m*\u001b[49m\u001b[43margs\u001b[49m\u001b[43m,\u001b[49m\u001b[43m \u001b[49m\u001b[43m*\u001b[49m\u001b[43m*\u001b[49m\u001b[43mkwargs\u001b[49m\u001b[43m)\u001b[49m\n\u001b[32m     91\u001b[39m \u001b[38;5;28;01mexcept\u001b[39;00m \u001b[38;5;167;01mException\u001b[39;00m \u001b[38;5;28;01mas\u001b[39;00m e:\n",
      "\u001b[36mFile \u001b[39m\u001b[32me:\\Programming\\python\\llms\\.venv\\Lib\\site-packages\\chromadb\\api\\models\\CollectionCommon.py:294\u001b[39m, in \u001b[36mCollectionCommon._validate_and_prepare_query_request\u001b[39m\u001b[34m(self, query_embeddings, query_texts, query_images, query_uris, n_results, where, where_document, include)\u001b[39m\n\u001b[32m    293\u001b[39m validate_base_record_set(record_set=query_records)\n\u001b[32m--> \u001b[39m\u001b[32m294\u001b[39m \u001b[43mvalidate_filter_set\u001b[49m\u001b[43m(\u001b[49m\u001b[43mfilter_set\u001b[49m\u001b[43m=\u001b[49m\u001b[43mfilters\u001b[49m\u001b[43m)\u001b[49m\n\u001b[32m    295\u001b[39m validate_include(include=include)\n",
      "\u001b[36mFile \u001b[39m\u001b[32me:\\Programming\\python\\llms\\.venv\\Lib\\site-packages\\chromadb\\api\\types.py:345\u001b[39m, in \u001b[36mvalidate_filter_set\u001b[39m\u001b[34m(filter_set)\u001b[39m\n\u001b[32m    344\u001b[39m \u001b[38;5;28;01mif\u001b[39;00m filter_set[\u001b[33m\"\u001b[39m\u001b[33mwhere\u001b[39m\u001b[33m\"\u001b[39m] \u001b[38;5;129;01mis\u001b[39;00m \u001b[38;5;129;01mnot\u001b[39;00m \u001b[38;5;28;01mNone\u001b[39;00m:\n\u001b[32m--> \u001b[39m\u001b[32m345\u001b[39m     \u001b[43mvalidate_where\u001b[49m\u001b[43m(\u001b[49m\u001b[43mfilter_set\u001b[49m\u001b[43m[\u001b[49m\u001b[33;43m\"\u001b[39;49m\u001b[33;43mwhere\u001b[39;49m\u001b[33;43m\"\u001b[39;49m\u001b[43m]\u001b[49m\u001b[43m)\u001b[49m\n\u001b[32m    346\u001b[39m \u001b[38;5;28;01mif\u001b[39;00m filter_set[\u001b[33m\"\u001b[39m\u001b[33mwhere_document\u001b[39m\u001b[33m\"\u001b[39m] \u001b[38;5;129;01mis\u001b[39;00m \u001b[38;5;129;01mnot\u001b[39;00m \u001b[38;5;28;01mNone\u001b[39;00m:\n",
      "\u001b[36mFile \u001b[39m\u001b[32me:\\Programming\\python\\llms\\.venv\\Lib\\site-packages\\chromadb\\api\\types.py:604\u001b[39m, in \u001b[36mvalidate_where\u001b[39m\u001b[34m(where)\u001b[39m\n\u001b[32m    603\u001b[39m \u001b[38;5;28;01mif\u001b[39;00m \u001b[38;5;28mlen\u001b[39m(where) != \u001b[32m1\u001b[39m:\n\u001b[32m--> \u001b[39m\u001b[32m604\u001b[39m     \u001b[38;5;28;01mraise\u001b[39;00m \u001b[38;5;167;01mValueError\u001b[39;00m(\u001b[33mf\u001b[39m\u001b[33m\"\u001b[39m\u001b[33mExpected where to have exactly one operator, got \u001b[39m\u001b[38;5;132;01m{\u001b[39;00mwhere\u001b[38;5;132;01m}\u001b[39;00m\u001b[33m\"\u001b[39m)\n\u001b[32m    605\u001b[39m \u001b[38;5;28;01mfor\u001b[39;00m key, value \u001b[38;5;129;01min\u001b[39;00m where.items():\n",
      "\u001b[31mValueError\u001b[39m: Expected where to have exactly one operator, got {}",
      "\nDuring handling of the above exception, another exception occurred:\n",
      "\u001b[31mValueError\u001b[39m                                Traceback (most recent call last)",
      "\u001b[36mCell\u001b[39m\u001b[36m \u001b[39m\u001b[32mIn[84]\u001b[39m\u001b[32m, line 1\u001b[39m\n\u001b[32m----> \u001b[39m\u001b[32m1\u001b[39m \u001b[43mquery_rag\u001b[49m\u001b[43m(\u001b[49m\u001b[33;43m\"\u001b[39;49m\u001b[33;43mWhat is vibration?\u001b[39;49m\u001b[33;43m\"\u001b[39;49m\u001b[43m)\u001b[49m\n",
      "\u001b[36mCell\u001b[39m\u001b[36m \u001b[39m\u001b[32mIn[83]\u001b[39m\u001b[32m, line 11\u001b[39m, in \u001b[36mquery_rag\u001b[39m\u001b[34m(query_text)\u001b[39m\n\u001b[32m      9\u001b[39m filters = gen_filters(query_text)\n\u001b[32m     10\u001b[39m \u001b[38;5;66;03m# Search the DB.\u001b[39;00m\n\u001b[32m---> \u001b[39m\u001b[32m11\u001b[39m results = \u001b[43mdb\u001b[49m\u001b[43m.\u001b[49m\u001b[43msimilarity_search_with_score\u001b[49m\u001b[43m(\u001b[49m\u001b[43mquery_text\u001b[49m\u001b[43m,\u001b[49m\u001b[43m \u001b[49m\u001b[43mk\u001b[49m\u001b[43m=\u001b[49m\u001b[32;43m5\u001b[39;49m\u001b[43m,\u001b[49m\u001b[43m \u001b[49m\u001b[38;5;28;43mfilter\u001b[39;49m\u001b[43m=\u001b[49m\u001b[43mfilters\u001b[49m\u001b[43m)\u001b[49m\n\u001b[32m     13\u001b[39m context_text = \u001b[33m\"\u001b[39m\u001b[38;5;130;01m\\n\u001b[39;00m\u001b[38;5;130;01m\\n\u001b[39;00m\u001b[33m---\u001b[39m\u001b[38;5;130;01m\\n\u001b[39;00m\u001b[38;5;130;01m\\n\u001b[39;00m\u001b[33m\"\u001b[39m.join([doc.page_content \u001b[38;5;28;01mfor\u001b[39;00m doc, _score \u001b[38;5;129;01min\u001b[39;00m results])\n\u001b[32m     14\u001b[39m prompt_template = ChatPromptTemplate.from_template(PROMPT_TEMPLATE)\n",
      "\u001b[36mFile \u001b[39m\u001b[32me:\\Programming\\python\\llms\\.venv\\Lib\\site-packages\\langchain_chroma\\vectorstores.py:701\u001b[39m, in \u001b[36mChroma.similarity_search_with_score\u001b[39m\u001b[34m(self, query, k, filter, where_document, **kwargs)\u001b[39m\n\u001b[32m    699\u001b[39m \u001b[38;5;28;01melse\u001b[39;00m:\n\u001b[32m    700\u001b[39m     query_embedding = \u001b[38;5;28mself\u001b[39m._embedding_function.embed_query(query)\n\u001b[32m--> \u001b[39m\u001b[32m701\u001b[39m     results = \u001b[38;5;28;43mself\u001b[39;49m\u001b[43m.\u001b[49m\u001b[43m__query_collection\u001b[49m\u001b[43m(\u001b[49m\n\u001b[32m    702\u001b[39m \u001b[43m        \u001b[49m\u001b[43mquery_embeddings\u001b[49m\u001b[43m=\u001b[49m\u001b[43m[\u001b[49m\u001b[43mquery_embedding\u001b[49m\u001b[43m]\u001b[49m\u001b[43m,\u001b[49m\n\u001b[32m    703\u001b[39m \u001b[43m        \u001b[49m\u001b[43mn_results\u001b[49m\u001b[43m=\u001b[49m\u001b[43mk\u001b[49m\u001b[43m,\u001b[49m\n\u001b[32m    704\u001b[39m \u001b[43m        \u001b[49m\u001b[43mwhere\u001b[49m\u001b[43m=\u001b[49m\u001b[38;5;28;43mfilter\u001b[39;49m\u001b[43m,\u001b[49m\n\u001b[32m    705\u001b[39m \u001b[43m        \u001b[49m\u001b[43mwhere_document\u001b[49m\u001b[43m=\u001b[49m\u001b[43mwhere_document\u001b[49m\u001b[43m,\u001b[49m\n\u001b[32m    706\u001b[39m \u001b[43m        \u001b[49m\u001b[43m*\u001b[49m\u001b[43m*\u001b[49m\u001b[43mkwargs\u001b[49m\u001b[43m,\u001b[49m\n\u001b[32m    707\u001b[39m \u001b[43m    \u001b[49m\u001b[43m)\u001b[49m\n\u001b[32m    709\u001b[39m \u001b[38;5;28;01mreturn\u001b[39;00m _results_to_docs_and_scores(results)\n",
      "\u001b[36mFile \u001b[39m\u001b[32me:\\Programming\\python\\llms\\.venv\\Lib\\site-packages\\langchain_core\\utils\\utils.py:54\u001b[39m, in \u001b[36mxor_args.<locals>.decorator.<locals>.wrapper\u001b[39m\u001b[34m(*args, **kwargs)\u001b[39m\n\u001b[32m     48\u001b[39m     msg = (\n\u001b[32m     49\u001b[39m         \u001b[33m\"\u001b[39m\u001b[33mExactly one argument in each of the following\u001b[39m\u001b[33m\"\u001b[39m\n\u001b[32m     50\u001b[39m         \u001b[33m\"\u001b[39m\u001b[33m groups must be defined:\u001b[39m\u001b[33m\"\u001b[39m\n\u001b[32m     51\u001b[39m         \u001b[33mf\u001b[39m\u001b[33m\"\u001b[39m\u001b[33m \u001b[39m\u001b[38;5;132;01m{\u001b[39;00m\u001b[33m'\u001b[39m\u001b[33m, \u001b[39m\u001b[33m'\u001b[39m.join(invalid_group_names)\u001b[38;5;132;01m}\u001b[39;00m\u001b[33m\"\u001b[39m\n\u001b[32m     52\u001b[39m     )\n\u001b[32m     53\u001b[39m     \u001b[38;5;28;01mraise\u001b[39;00m \u001b[38;5;167;01mValueError\u001b[39;00m(msg)\n\u001b[32m---> \u001b[39m\u001b[32m54\u001b[39m \u001b[38;5;28;01mreturn\u001b[39;00m \u001b[43mfunc\u001b[49m\u001b[43m(\u001b[49m\u001b[43m*\u001b[49m\u001b[43margs\u001b[49m\u001b[43m,\u001b[49m\u001b[43m \u001b[49m\u001b[43m*\u001b[49m\u001b[43m*\u001b[49m\u001b[43mkwargs\u001b[49m\u001b[43m)\u001b[49m\n",
      "\u001b[36mFile \u001b[39m\u001b[32me:\\Programming\\python\\llms\\.venv\\Lib\\site-packages\\langchain_chroma\\vectorstores.py:393\u001b[39m, in \u001b[36mChroma.__query_collection\u001b[39m\u001b[34m(self, query_texts, query_embeddings, n_results, where, where_document, **kwargs)\u001b[39m\n\u001b[32m    365\u001b[39m \u001b[38;5;129m@xor_args\u001b[39m((\u001b[33m\"\u001b[39m\u001b[33mquery_texts\u001b[39m\u001b[33m\"\u001b[39m, \u001b[33m\"\u001b[39m\u001b[33mquery_embeddings\u001b[39m\u001b[33m\"\u001b[39m))\n\u001b[32m    366\u001b[39m \u001b[38;5;28;01mdef\u001b[39;00m\u001b[38;5;250m \u001b[39m\u001b[34m__query_collection\u001b[39m(\n\u001b[32m    367\u001b[39m     \u001b[38;5;28mself\u001b[39m,\n\u001b[32m   (...)\u001b[39m\u001b[32m    373\u001b[39m     **kwargs: Any,\n\u001b[32m    374\u001b[39m ) -> Union[\u001b[38;5;28mlist\u001b[39m[Document], chromadb.QueryResult]:\n\u001b[32m    375\u001b[39m \u001b[38;5;250m    \u001b[39m\u001b[33;03m\"\"\"Query the chroma collection.\u001b[39;00m\n\u001b[32m    376\u001b[39m \n\u001b[32m    377\u001b[39m \u001b[33;03m    Args:\u001b[39;00m\n\u001b[32m   (...)\u001b[39m\u001b[32m    391\u001b[39m \u001b[33;03m    See more: https://docs.trychroma.com/reference/py-collection#query\u001b[39;00m\n\u001b[32m    392\u001b[39m \u001b[33;03m    \"\"\"\u001b[39;00m\n\u001b[32m--> \u001b[39m\u001b[32m393\u001b[39m     \u001b[38;5;28;01mreturn\u001b[39;00m \u001b[38;5;28;43mself\u001b[39;49m\u001b[43m.\u001b[49m\u001b[43m_collection\u001b[49m\u001b[43m.\u001b[49m\u001b[43mquery\u001b[49m\u001b[43m(\u001b[49m\n\u001b[32m    394\u001b[39m \u001b[43m        \u001b[49m\u001b[43mquery_texts\u001b[49m\u001b[43m=\u001b[49m\u001b[43mquery_texts\u001b[49m\u001b[43m,\u001b[49m\n\u001b[32m    395\u001b[39m \u001b[43m        \u001b[49m\u001b[43mquery_embeddings\u001b[49m\u001b[43m=\u001b[49m\u001b[43mquery_embeddings\u001b[49m\u001b[43m,\u001b[49m\u001b[43m  \u001b[49m\u001b[38;5;66;43;03m# type: ignore\u001b[39;49;00m\n\u001b[32m    396\u001b[39m \u001b[43m        \u001b[49m\u001b[43mn_results\u001b[49m\u001b[43m=\u001b[49m\u001b[43mn_results\u001b[49m\u001b[43m,\u001b[49m\n\u001b[32m    397\u001b[39m \u001b[43m        \u001b[49m\u001b[43mwhere\u001b[49m\u001b[43m=\u001b[49m\u001b[43mwhere\u001b[49m\u001b[43m,\u001b[49m\u001b[43m  \u001b[49m\u001b[38;5;66;43;03m# type: ignore\u001b[39;49;00m\n\u001b[32m    398\u001b[39m \u001b[43m        \u001b[49m\u001b[43mwhere_document\u001b[49m\u001b[43m=\u001b[49m\u001b[43mwhere_document\u001b[49m\u001b[43m,\u001b[49m\u001b[43m  \u001b[49m\u001b[38;5;66;43;03m# type: ignore\u001b[39;49;00m\n\u001b[32m    399\u001b[39m \u001b[43m        \u001b[49m\u001b[43m*\u001b[49m\u001b[43m*\u001b[49m\u001b[43mkwargs\u001b[49m\u001b[43m,\u001b[49m\n\u001b[32m    400\u001b[39m \u001b[43m    \u001b[49m\u001b[43m)\u001b[49m\n",
      "\u001b[36mFile \u001b[39m\u001b[32me:\\Programming\\python\\llms\\.venv\\Lib\\site-packages\\chromadb\\api\\models\\Collection.py:211\u001b[39m, in \u001b[36mCollection.query\u001b[39m\u001b[34m(self, query_embeddings, query_texts, query_images, query_uris, n_results, where, where_document, include)\u001b[39m\n\u001b[32m    168\u001b[39m \u001b[38;5;28;01mdef\u001b[39;00m\u001b[38;5;250m \u001b[39m\u001b[34mquery\u001b[39m(\n\u001b[32m    169\u001b[39m     \u001b[38;5;28mself\u001b[39m,\n\u001b[32m    170\u001b[39m     query_embeddings: Optional[\n\u001b[32m   (...)\u001b[39m\u001b[32m    186\u001b[39m     ],\n\u001b[32m    187\u001b[39m ) -> QueryResult:\n\u001b[32m    188\u001b[39m \u001b[38;5;250m    \u001b[39m\u001b[33;03m\"\"\"Get the n_results nearest neighbor embeddings for provided query_embeddings or query_texts.\u001b[39;00m\n\u001b[32m    189\u001b[39m \n\u001b[32m    190\u001b[39m \u001b[33;03m    Args:\u001b[39;00m\n\u001b[32m   (...)\u001b[39m\u001b[32m    208\u001b[39m \n\u001b[32m    209\u001b[39m \u001b[33;03m    \"\"\"\u001b[39;00m\n\u001b[32m--> \u001b[39m\u001b[32m211\u001b[39m     query_request = \u001b[38;5;28;43mself\u001b[39;49m\u001b[43m.\u001b[49m\u001b[43m_validate_and_prepare_query_request\u001b[49m\u001b[43m(\u001b[49m\n\u001b[32m    212\u001b[39m \u001b[43m        \u001b[49m\u001b[43mquery_embeddings\u001b[49m\u001b[43m=\u001b[49m\u001b[43mquery_embeddings\u001b[49m\u001b[43m,\u001b[49m\n\u001b[32m    213\u001b[39m \u001b[43m        \u001b[49m\u001b[43mquery_texts\u001b[49m\u001b[43m=\u001b[49m\u001b[43mquery_texts\u001b[49m\u001b[43m,\u001b[49m\n\u001b[32m    214\u001b[39m \u001b[43m        \u001b[49m\u001b[43mquery_images\u001b[49m\u001b[43m=\u001b[49m\u001b[43mquery_images\u001b[49m\u001b[43m,\u001b[49m\n\u001b[32m    215\u001b[39m \u001b[43m        \u001b[49m\u001b[43mquery_uris\u001b[49m\u001b[43m=\u001b[49m\u001b[43mquery_uris\u001b[49m\u001b[43m,\u001b[49m\n\u001b[32m    216\u001b[39m \u001b[43m        \u001b[49m\u001b[43mn_results\u001b[49m\u001b[43m=\u001b[49m\u001b[43mn_results\u001b[49m\u001b[43m,\u001b[49m\n\u001b[32m    217\u001b[39m \u001b[43m        \u001b[49m\u001b[43mwhere\u001b[49m\u001b[43m=\u001b[49m\u001b[43mwhere\u001b[49m\u001b[43m,\u001b[49m\n\u001b[32m    218\u001b[39m \u001b[43m        \u001b[49m\u001b[43mwhere_document\u001b[49m\u001b[43m=\u001b[49m\u001b[43mwhere_document\u001b[49m\u001b[43m,\u001b[49m\n\u001b[32m    219\u001b[39m \u001b[43m        \u001b[49m\u001b[43minclude\u001b[49m\u001b[43m=\u001b[49m\u001b[43minclude\u001b[49m\u001b[43m,\u001b[49m\n\u001b[32m    220\u001b[39m \u001b[43m    \u001b[49m\u001b[43m)\u001b[49m\n\u001b[32m    222\u001b[39m     query_results = \u001b[38;5;28mself\u001b[39m._client._query(\n\u001b[32m    223\u001b[39m         collection_id=\u001b[38;5;28mself\u001b[39m.id,\n\u001b[32m    224\u001b[39m         query_embeddings=query_request[\u001b[33m\"\u001b[39m\u001b[33membeddings\u001b[39m\u001b[33m\"\u001b[39m],\n\u001b[32m   (...)\u001b[39m\u001b[32m    230\u001b[39m         database=\u001b[38;5;28mself\u001b[39m.database,\n\u001b[32m    231\u001b[39m     )\n\u001b[32m    233\u001b[39m     \u001b[38;5;28;01mreturn\u001b[39;00m \u001b[38;5;28mself\u001b[39m._transform_query_response(\n\u001b[32m    234\u001b[39m         response=query_results, include=query_request[\u001b[33m\"\u001b[39m\u001b[33minclude\u001b[39m\u001b[33m\"\u001b[39m]\n\u001b[32m    235\u001b[39m     )\n",
      "\u001b[36mFile \u001b[39m\u001b[32me:\\Programming\\python\\llms\\.venv\\Lib\\site-packages\\chromadb\\api\\models\\CollectionCommon.py:93\u001b[39m, in \u001b[36mvalidation_context.<locals>.decorator.<locals>.wrapper\u001b[39m\u001b[34m(self, *args, **kwargs)\u001b[39m\n\u001b[32m     91\u001b[39m \u001b[38;5;28;01mexcept\u001b[39;00m \u001b[38;5;167;01mException\u001b[39;00m \u001b[38;5;28;01mas\u001b[39;00m e:\n\u001b[32m     92\u001b[39m     msg = \u001b[33mf\u001b[39m\u001b[33m\"\u001b[39m\u001b[38;5;132;01m{\u001b[39;00m\u001b[38;5;28mstr\u001b[39m(e)\u001b[38;5;132;01m}\u001b[39;00m\u001b[33m in \u001b[39m\u001b[38;5;132;01m{\u001b[39;00mname\u001b[38;5;132;01m}\u001b[39;00m\u001b[33m.\u001b[39m\u001b[33m\"\u001b[39m\n\u001b[32m---> \u001b[39m\u001b[32m93\u001b[39m     \u001b[38;5;28;01mraise\u001b[39;00m \u001b[38;5;28mtype\u001b[39m(e)(msg).with_traceback(e.__traceback__)\n",
      "\u001b[36mFile \u001b[39m\u001b[32me:\\Programming\\python\\llms\\.venv\\Lib\\site-packages\\chromadb\\api\\models\\CollectionCommon.py:90\u001b[39m, in \u001b[36mvalidation_context.<locals>.decorator.<locals>.wrapper\u001b[39m\u001b[34m(self, *args, **kwargs)\u001b[39m\n\u001b[32m     87\u001b[39m \u001b[38;5;129m@functools\u001b[39m.wraps(func)\n\u001b[32m     88\u001b[39m \u001b[38;5;28;01mdef\u001b[39;00m\u001b[38;5;250m \u001b[39m\u001b[34mwrapper\u001b[39m(\u001b[38;5;28mself\u001b[39m: Any, *args: Any, **kwargs: Any) -> T:\n\u001b[32m     89\u001b[39m     \u001b[38;5;28;01mtry\u001b[39;00m:\n\u001b[32m---> \u001b[39m\u001b[32m90\u001b[39m         \u001b[38;5;28;01mreturn\u001b[39;00m \u001b[43mfunc\u001b[49m\u001b[43m(\u001b[49m\u001b[38;5;28;43mself\u001b[39;49m\u001b[43m,\u001b[49m\u001b[43m \u001b[49m\u001b[43m*\u001b[49m\u001b[43margs\u001b[49m\u001b[43m,\u001b[49m\u001b[43m \u001b[49m\u001b[43m*\u001b[49m\u001b[43m*\u001b[49m\u001b[43mkwargs\u001b[49m\u001b[43m)\u001b[49m\n\u001b[32m     91\u001b[39m     \u001b[38;5;28;01mexcept\u001b[39;00m \u001b[38;5;167;01mException\u001b[39;00m \u001b[38;5;28;01mas\u001b[39;00m e:\n\u001b[32m     92\u001b[39m         msg = \u001b[33mf\u001b[39m\u001b[33m\"\u001b[39m\u001b[38;5;132;01m{\u001b[39;00m\u001b[38;5;28mstr\u001b[39m(e)\u001b[38;5;132;01m}\u001b[39;00m\u001b[33m in \u001b[39m\u001b[38;5;132;01m{\u001b[39;00mname\u001b[38;5;132;01m}\u001b[39;00m\u001b[33m.\u001b[39m\u001b[33m\"\u001b[39m\n",
      "\u001b[36mFile \u001b[39m\u001b[32me:\\Programming\\python\\llms\\.venv\\Lib\\site-packages\\chromadb\\api\\models\\CollectionCommon.py:294\u001b[39m, in \u001b[36mCollectionCommon._validate_and_prepare_query_request\u001b[39m\u001b[34m(self, query_embeddings, query_texts, query_images, query_uris, n_results, where, where_document, include)\u001b[39m\n\u001b[32m    292\u001b[39m \u001b[38;5;66;03m# Validate\u001b[39;00m\n\u001b[32m    293\u001b[39m validate_base_record_set(record_set=query_records)\n\u001b[32m--> \u001b[39m\u001b[32m294\u001b[39m \u001b[43mvalidate_filter_set\u001b[49m\u001b[43m(\u001b[49m\u001b[43mfilter_set\u001b[49m\u001b[43m=\u001b[49m\u001b[43mfilters\u001b[49m\u001b[43m)\u001b[49m\n\u001b[32m    295\u001b[39m validate_include(include=include)\n\u001b[32m    296\u001b[39m validate_n_results(n_results=n_results)\n",
      "\u001b[36mFile \u001b[39m\u001b[32me:\\Programming\\python\\llms\\.venv\\Lib\\site-packages\\chromadb\\api\\types.py:345\u001b[39m, in \u001b[36mvalidate_filter_set\u001b[39m\u001b[34m(filter_set)\u001b[39m\n\u001b[32m    343\u001b[39m \u001b[38;5;28;01mdef\u001b[39;00m\u001b[38;5;250m \u001b[39m\u001b[34mvalidate_filter_set\u001b[39m(filter_set: FilterSet) -> \u001b[38;5;28;01mNone\u001b[39;00m:\n\u001b[32m    344\u001b[39m     \u001b[38;5;28;01mif\u001b[39;00m filter_set[\u001b[33m\"\u001b[39m\u001b[33mwhere\u001b[39m\u001b[33m\"\u001b[39m] \u001b[38;5;129;01mis\u001b[39;00m \u001b[38;5;129;01mnot\u001b[39;00m \u001b[38;5;28;01mNone\u001b[39;00m:\n\u001b[32m--> \u001b[39m\u001b[32m345\u001b[39m         \u001b[43mvalidate_where\u001b[49m\u001b[43m(\u001b[49m\u001b[43mfilter_set\u001b[49m\u001b[43m[\u001b[49m\u001b[33;43m\"\u001b[39;49m\u001b[33;43mwhere\u001b[39;49m\u001b[33;43m\"\u001b[39;49m\u001b[43m]\u001b[49m\u001b[43m)\u001b[49m\n\u001b[32m    346\u001b[39m     \u001b[38;5;28;01mif\u001b[39;00m filter_set[\u001b[33m\"\u001b[39m\u001b[33mwhere_document\u001b[39m\u001b[33m\"\u001b[39m] \u001b[38;5;129;01mis\u001b[39;00m \u001b[38;5;129;01mnot\u001b[39;00m \u001b[38;5;28;01mNone\u001b[39;00m:\n\u001b[32m    347\u001b[39m         validate_where_document(filter_set[\u001b[33m\"\u001b[39m\u001b[33mwhere_document\u001b[39m\u001b[33m\"\u001b[39m])\n",
      "\u001b[36mFile \u001b[39m\u001b[32me:\\Programming\\python\\llms\\.venv\\Lib\\site-packages\\chromadb\\api\\types.py:604\u001b[39m, in \u001b[36mvalidate_where\u001b[39m\u001b[34m(where)\u001b[39m\n\u001b[32m    602\u001b[39m     \u001b[38;5;28;01mraise\u001b[39;00m \u001b[38;5;167;01mValueError\u001b[39;00m(\u001b[33mf\u001b[39m\u001b[33m\"\u001b[39m\u001b[33mExpected where to be a dict, got \u001b[39m\u001b[38;5;132;01m{\u001b[39;00mwhere\u001b[38;5;132;01m}\u001b[39;00m\u001b[33m\"\u001b[39m)\n\u001b[32m    603\u001b[39m \u001b[38;5;28;01mif\u001b[39;00m \u001b[38;5;28mlen\u001b[39m(where) != \u001b[32m1\u001b[39m:\n\u001b[32m--> \u001b[39m\u001b[32m604\u001b[39m     \u001b[38;5;28;01mraise\u001b[39;00m \u001b[38;5;167;01mValueError\u001b[39;00m(\u001b[33mf\u001b[39m\u001b[33m\"\u001b[39m\u001b[33mExpected where to have exactly one operator, got \u001b[39m\u001b[38;5;132;01m{\u001b[39;00mwhere\u001b[38;5;132;01m}\u001b[39;00m\u001b[33m\"\u001b[39m)\n\u001b[32m    605\u001b[39m \u001b[38;5;28;01mfor\u001b[39;00m key, value \u001b[38;5;129;01min\u001b[39;00m where.items():\n\u001b[32m    606\u001b[39m     \u001b[38;5;28;01mif\u001b[39;00m \u001b[38;5;129;01mnot\u001b[39;00m \u001b[38;5;28misinstance\u001b[39m(key, \u001b[38;5;28mstr\u001b[39m):\n",
      "\u001b[31mValueError\u001b[39m: Expected where to have exactly one operator, got {} in query."
     ]
    }
   ],
   "source": [
    "query_rag(\"What is vibration?\")"
   ]
  },
  {
   "cell_type": "code",
   "execution_count": 17,
   "id": "0d619664",
   "metadata": {},
   "outputs": [
    {
     "name": "stdout",
     "output_type": "stream",
     "text": [
      " Based on the provided context, there is no explicit definition of \"vibration\" given in the text. However, the context suggests that we are discussing oscillations or vibrations in a physical system, as seen in Figure 8.5-1 and discussed in relation to mode shapes. In a broader sense, in Thomson's book, vibration could be referred to as the periodic motion of a system about its equilibrium position.\n",
      "\n",
      "---\n",
      "\n",
      "\n",
      "Sources: 5\n",
      "data\\Ferguson 3rd ed.pdf:247:3\n",
      "data\\Thomson 4th ed.pdf:242:1\n",
      "data\\Thomson 4th ed.pdf:460:2\n",
      "data\\Thomson 4th ed.pdf:349:2\n",
      "data\\Thomson 4th ed.pdf:257:1\n"
     ]
    }
   ],
   "source": [
    "query_rag(\"What is the definition of vibration from Thomson's book?\")"
   ]
  },
  {
   "cell_type": "code",
   "execution_count": 18,
   "id": "74fdf756",
   "metadata": {},
   "outputs": [
    {
     "name": "stdout",
     "output_type": "stream",
     "text": [
      " Based on the given context, it appears that the discussion revolves around Harmonically Excited Vibration, as mentioned in Chapter 3. However, no explicit definition for this type of vibration is provided in the text.\n",
      "\n",
      "The equations presented seem to be related to normal mode vibration, expressed either in terms of stiffness (K) or flexibility (1/K). The stiffness approach expresses force in terms of displacement and flexibility approaches express displacement in terms of force.\n",
      "\n",
      "The context does not explicitly mention other types of vibrations such as free, forced, or damped vibration. However, it does discuss the concept of damping, which is a mechanism for energy dissipation in oscillatory systems, and mentions that energy can be dissipated into heat, radiated away, or lost through waves (like a buoy bobbing in water).\n",
      "\n",
      "In summary, based on the provided context, the discussion appears to be limited to Harmonically Excited Vibration, with some mention of the effects of damping. Other types of vibrations such as free, forced, and damped are not explicitly mentioned.\n",
      "\n",
      "---\n",
      "\n",
      "\n",
      "Sources: 5\n",
      "data\\Thomson 4th ed.pdf:242:1\n",
      "data\\Ferguson 3rd ed.pdf:247:3\n",
      "data\\Thomson 4th ed.pdf:82:0\n",
      "data\\Thomson 4th ed.pdf:183:0\n",
      "data\\Thomson 4th ed.pdf:257:1\n"
     ]
    }
   ],
   "source": [
    "query_rag(\"Describe different types of vibrations.\")"
   ]
  },
  {
   "cell_type": "code",
   "execution_count": 19,
   "id": "ccbb72e9",
   "metadata": {},
   "outputs": [
    {
     "name": "stdout",
     "output_type": "stream",
     "text": [
      " According to the provided context, free vibrations occur when a system is initially disturbed from equilibrium and then left to oscillate on its own without any external forces acting on it. The equations of motion for free vibrations are typically expressed in terms of the stiffness (K) of the system, such as equation (a): (-co^[M] + [/:]){A-} = {0}.\n",
      "\n",
      "On the other hand, forced vibrations occur when an external force is applied to the system causing it to oscillate. The displacement in this case can be written in terms of the force using the flexibility (1/K) as shown in equation (b): {F}=[/C]{A'}.\n",
      "\n",
      "In essence, free vibrations are self-sustaining oscillations of a system without any external forces, while forced vibrations involve an external force acting on the system and causing it to vibrate.\n",
      "\n",
      "---\n",
      "\n",
      "\n",
      "Sources: 5\n",
      "data\\Ferguson 3rd ed.pdf:247:3\n",
      "data\\Thomson 4th ed.pdf:242:1\n",
      "data\\Thomson 4th ed.pdf:257:1\n",
      "data\\Thomson 4th ed.pdf:460:2\n",
      "data\\Thomson 4th ed.pdf:183:0\n"
     ]
    }
   ],
   "source": [
    "query_rag(\"What is the difference between free and forced vibrations?\")"
   ]
  },
  {
   "cell_type": "code",
   "execution_count": 27,
   "id": "f6c3a2ac",
   "metadata": {},
   "outputs": [
    {
     "data": {
      "text/plain": [
       "[]"
      ]
     },
     "execution_count": 27,
     "metadata": {},
     "output_type": "execute_result"
    }
   ],
   "source": [
    "embedding_function = get_embedding_function()\n",
    "db = Chroma(persist_directory=CHROMA_PATH, embedding_function=embedding_function)\n",
    "\n",
    "# Search the DB.\n",
    "results = db.similarity_search_with_score(\"runtime\", k=5)\n",
    "results"
   ]
  },
  {
   "cell_type": "code",
   "execution_count": 24,
   "id": "67614094",
   "metadata": {},
   "outputs": [
    {
     "name": "stdout",
     "output_type": "stream",
     "text": [
      " Based on the given context, there are no explicit prerequisites mentioned for setting up an AWS Lambda function. However, in general, to set up an AWS Lambda function, you would typically need the following:\n",
      "\n",
      "1. An Amazon Web Services (AWS) account.\n",
      "2. The AWS Command Line Interface (CLI) installed and configured on your local machine or access to the AWS Management Console.\n",
      "3. A suitable runtime environment for your Lambda function (e.g., Node.js, Python, etc.) and a compatible ZIP file containing your code.\n",
      "4. Proper IAM permissions to create and manage Lambda functions within your account.\n",
      "5. Depending on the use case, you might also need to configure event sources, such as Amazon S3 buckets, DynamoDB tables, or API Gateway endpoints.\n",
      "\n",
      "---\n",
      "\n",
      "\n",
      "Sources: 0\n"
     ]
    }
   ],
   "source": [
    "query_rag(\"Prerequisites to set up a Lambda function?\")\n",
    "# query_rag(\"How to set up a Lambda function in AWS?\")"
   ]
  },
  {
   "cell_type": "code",
   "execution_count": 21,
   "id": "b902637a",
   "metadata": {},
   "outputs": [
    {
     "name": "stdout",
     "output_type": "stream",
     "text": [
      " To set up an AWS Lambda function, follow these steps:\n",
      "\n",
      "1. Sign in to the AWS Management Console and open the Lambda service.\n",
      "\n",
      "2. Click on the 'Create function' button to begin setting up your new Lambda function.\n",
      "\n",
      "3. In the 'Designer' section, provide a name for your Lambda function and choose a runtime environment (e.g., Node.js, Python, etc.). Then click 'Create function'.\n",
      "\n",
      "4. Under the 'Code entry type', select 'Upload a .zip file' or 'Author from scratch' based on whether you have an existing code package or plan to write your Lambda function within the AWS Console.\n",
      "\n",
      "   If you choose 'Upload a .zip file', you will be prompted to upload the compressed code for your Lambda function. Make sure that all dependencies are included in the zip file.\n",
      "\n",
      "5. In the 'Handler' field, specify the name of the handler function within your code package (e.g., index.handler if you have an Node.js project).\n",
      "\n",
      "6. Click on 'Add or create an execution role' to assign a suitable IAM role to your Lambda function. If you don't already have a role with the necessary permissions, you can create a new one by following the provided instructions.\n",
      "\n",
      "7. Configure any other settings for your Lambda function as required (e.g., environment variables). Then click 'Create function'.\n",
      "\n",
      "8. Once your Lambda function is created, you can test it using AWS Lambda's built-in testing tools or by triggering the function with an event source (e.g., API Gateway, S3 bucket, etc.).\n",
      "\n",
      "---\n",
      "\n",
      "\n",
      "Sources:\n"
     ]
    }
   ],
   "source": [
    "query_rag(\"How to set up a Lambda function in AWS?\")"
   ]
  },
  {
   "cell_type": "code",
   "execution_count": null,
   "id": "f2880948",
   "metadata": {},
   "outputs": [],
   "source": [
    "query_rag(\"How to set up a Lambda function in AWS?\")"
   ]
  }
 ],
 "metadata": {
  "kernelspec": {
   "display_name": ".venv",
   "language": "python",
   "name": "python3"
  },
  "language_info": {
   "codemirror_mode": {
    "name": "ipython",
    "version": 3
   },
   "file_extension": ".py",
   "mimetype": "text/x-python",
   "name": "python",
   "nbconvert_exporter": "python",
   "pygments_lexer": "ipython3",
   "version": "3.11.9"
  }
 },
 "nbformat": 4,
 "nbformat_minor": 5
}
